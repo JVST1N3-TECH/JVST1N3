{
 "cells": [
  {
   "cell_type": "markdown",
   "metadata": {},
   "source": [
    "# <p style=\"text-align:center;\">CP101 Strings and Collections</p>\n",
    "## <p style=\"text-align:center;\">List Methods</p>\n",
    "---\n",
    "Submitted by: Montemayor, Justine Lloyd E.\n",
    "\n",
    "Student ID:A24-38775\n",
    "\n",
    "Date of Submission: \n",
    "\n",
    "Submitted to: `James Grimaldo `\n",
    "***\n"
   ]
  },
  {
   "cell_type": "markdown",
   "metadata": {},
   "source": [
    "| **Method**      | **Description**                                                                            |\n",
    "|-----------------|--------------------------------------------------------------------------------------------|\n",
    "| `append()`      | Adds an element at the end of the list                                                   |\n",
    "| `clear()`       | Removes all the elements from the list                                                    |\n",
    "| `copy()`        | Returns a copy of the list                                                                 |\n",
    "| `count()`       | Returns the number of elements with the specified value                                   |\n",
    "| `extend()`      | Adds the elements of a list (or any iterable) to the end of the current list             |\n",
    "| `index()`       | Returns the index of the first element with the specified value                          |\n",
    "| `insert()`      | Adds an element at the specified position                                                 |\n",
    "| `pop()`         | Removes the element at the specified position                                              |\n",
    "| `remove()`      | Removes the item with the specified value                                                  |\n",
    "| `reverse()`     | Reverses the order of the list                                                             |\n",
    "| `sort()`        | Sorts the list                                                                             |\n"
   ]
  },
  {
   "cell_type": "code",
   "execution_count": 9,
   "metadata": {},
   "outputs": [
    {
     "name": "stdout",
     "output_type": "stream",
     "text": [
      "After append(10): [9, 2, 0, 3, 6, 10, 7, 10]\n"
     ]
    }
   ],
   "source": [
    "y_list = [30, 20, 16, 7, 10]\n",
    "\n",
    "# 1. append() - Adds an element at the end of the list\n",
    "my_list.append(10)  # Adds 10 to the end of the list\n",
    "print(f\"After append(10): {my_list}\")"
   ]
  },
  {
   "cell_type": "code",
   "execution_count": 11,
   "metadata": {},
   "outputs": [
    {
     "name": "stdout",
     "output_type": "stream",
     "text": [
      "After clear(): []\n"
     ]
    }
   ],
   "source": [
    "my_list = [9, 2, 0, 3, 6]\n",
    "\n",
    "# clear() - Removes all the elements from the list\n",
    "my_list.clear()  # Empties the list\n",
    "print(f\"After clear(): {my_list}\")"
   ]
  },
  {
   "cell_type": "code",
   "execution_count": 16,
   "metadata": {},
   "outputs": [
    {
     "name": "stdout",
     "output_type": "stream",
     "text": [
      "Copy of the list: [5, 45, 35, 25, 15]\n"
     ]
    }
   ],
   "source": [
    "# copy() - Returns a copy of the list\n",
    "my_list = [5, 45, 35, 25, 15]  # Resetting the list\n",
    "my_list_copy = my_list.copy()  # Creates a copy of my_list\n",
    "print(f\"Copy of the list: {my_list_copy}\")"
   ]
  },
  {
   "cell_type": "code",
   "execution_count": 13,
   "metadata": {},
   "outputs": [
    {
     "name": "stdout",
     "output_type": "stream",
     "text": [
      "The number of 5s in the list: 1\n"
     ]
    }
   ],
   "source": [
    "# count() - Returns the number of elements with the specified value\n",
    "count_of_fives = my_list.count(5)  # Counts how many times 5 appears\n",
    "print(f\"The number of 5s in the list: {count_of_fives}\")"
   ]
  },
  {
   "cell_type": "code",
   "execution_count": 17,
   "metadata": {},
   "outputs": [
    {
     "name": "stdout",
     "output_type": "stream",
     "text": [
      "After extend([6, 9]): [5, 45, 35, 25, 15, 17, 5]\n"
     ]
    }
   ],
   "source": [
    "# extend() - Adds elements of another list to the end of the current list\n",
    "my_list.extend([17, 5])  # Adds 6 and 9 to the end of my_list\n",
    "print(f\"After extend([6, 9]): {my_list}\")"
   ]
  },
  {
   "cell_type": "code",
   "execution_count": 21,
   "metadata": {},
   "outputs": [
    {
     "name": "stdout",
     "output_type": "stream",
     "text": [
      "The index of 5: 0\n"
     ]
    }
   ],
   "source": [
    "# index() - Returns the index of the first element with the specified value\n",
    "index_of_five = my_list.index(5)  # Finds the index of the first occurrence of 5\n",
    "print(f\"The index of 5: {index_of_five}\")"
   ]
  },
  {
   "cell_type": "code",
   "execution_count": 22,
   "metadata": {},
   "outputs": [
    {
     "name": "stdout",
     "output_type": "stream",
     "text": [
      "After insert(1, 10): [5, 10, 45, 35, 25, 15, 17, 5]\n"
     ]
    }
   ],
   "source": [
    "# insert() - Adds an element at the specified position\n",
    "my_list.insert(1, 10)  # Inserts 10 at index 1, shifting other elements right\n",
    "print(f\"After insert(1, 10): {my_list}\")"
   ]
  },
  {
   "cell_type": "code",
   "execution_count": 23,
   "metadata": {},
   "outputs": [
    {
     "name": "stdout",
     "output_type": "stream",
     "text": [
      "Popped element: 45\n",
      "After pop(2): [5, 10, 35, 25, 15, 17, 5]\n"
     ]
    }
   ],
   "source": [
    "# pop() - Removes the element at the specified position\n",
    "popped_element = my_list.pop(2)  # Removes the element at index 2 and returns it\n",
    "print(f\"Popped element: {popped_element}\")\n",
    "print(f\"After pop(2): {my_list}\")"
   ]
  },
  {
   "cell_type": "code",
   "execution_count": 24,
   "metadata": {},
   "outputs": [
    {
     "name": "stdout",
     "output_type": "stream",
     "text": [
      "After remove(10): [5, 35, 25, 15, 17, 5]\n"
     ]
    }
   ],
   "source": [
    "# remove() - Removes the item with the specified value\n",
    "my_list.remove(10)  # Removes the first occurrence of 10 from the list\n",
    "print(f\"After remove(10): {my_list}\")\n"
   ]
  },
  {
   "cell_type": "code",
   "execution_count": 25,
   "metadata": {},
   "outputs": [
    {
     "name": "stdout",
     "output_type": "stream",
     "text": [
      "After reverse(): [5, 17, 15, 25, 35, 5]\n"
     ]
    }
   ],
   "source": [
    "# reverse() - Reverses the order of the list\n",
    "my_list.reverse()  # Flips the order of the elements in the list\n",
    "print(f\"After reverse(): {my_list}\")\n"
   ]
  },
  {
   "cell_type": "code",
   "execution_count": 26,
   "metadata": {},
   "outputs": [
    {
     "name": "stdout",
     "output_type": "stream",
     "text": [
      "After sort(): [5, 5, 15, 17, 25, 35]\n"
     ]
    }
   ],
   "source": [
    "# sort() - Sorts the list\n",
    "my_list.sort()  # Sorts the list in ascending order\n",
    "print(f\"After sort(): {my_list}\")"
   ]
  }
 ],
 "metadata": {
  "kernelspec": {
   "display_name": "Python 3",
   "language": "python",
   "name": "python3"
  },
  "language_info": {
   "codemirror_mode": {
    "name": "ipython",
    "version": 3
   },
   "file_extension": ".py",
   "mimetype": "text/x-python",
   "name": "python",
   "nbconvert_exporter": "python",
   "pygments_lexer": "ipython3",
   "version": "3.11.3"
  }
 },
 "nbformat": 4,
 "nbformat_minor": 2
}
