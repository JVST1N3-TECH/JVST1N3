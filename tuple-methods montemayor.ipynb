{
 "cells": [
  {
   "cell_type": "markdown",
   "metadata": {},
   "source": [
    "# <p style=\"text-align:center;\">CP101 Strings and Collections</p>\n",
    "## <p style=\"text-align:center;\">Tuple Methods</p>\n",
    "---\n",
    "Submitted by: Montemayor, Justine Lloyd E.\n",
    "\n",
    "Student ID: A24-38775\n",
    "\n",
    "Date of Submission: \n",
    "\n",
    "Submitted to: `James Grimaldo `\n",
    "***\n"
   ]
  },
  {
   "cell_type": "markdown",
   "metadata": {},
   "source": [
    "| **Method**   | **Description**                                                                    |\n",
    "|--------------|------------------------------------------------------------------------------------|\n",
    "| `count()`    | Returns the number of times a specified value occurs in a tuple                    |\n",
    "| `index()`    | Searches the tuple for a specified value and returns the position of where it was found |\n"
   ]
  },
  {
   "cell_type": "code",
   "execution_count": 1,
   "metadata": {},
   "outputs": [
    {
     "name": "stdout",
     "output_type": "stream",
     "text": [
      "The number of times 2 appears in the tuple: 3\n"
     ]
    }
   ],
   "source": [
    "# Creating a tuple\n",
    "my_tuple = (1, 2, 3, 4, 2, 5, 2)\n",
    "\n",
    "# Using count() to find how many times the value 2 appears in the tuple\n",
    "count_of_twos = my_tuple.count(2)\n",
    "print(f\"The number of times 2 appears in the tuple: {count_of_twos}\")"
   ]
  },
  {
   "cell_type": "code",
   "execution_count": 2,
   "metadata": {},
   "outputs": [
    {
     "name": "stdout",
     "output_type": "stream",
     "text": [
      "The first occurrence of 2 is at index: 1\n"
     ]
    }
   ],
   "source": [
    "# Using index() to find the first occurrence of the value 2 in the tuple\n",
    "index_of_first_two = my_tuple.index(2)\n",
    "print(f\"The first occurrence of 2 is at index: {index_of_first_two}\")"
   ]
  }
 ],
 "metadata": {
  "kernelspec": {
   "display_name": "Python 3",
   "language": "python",
   "name": "python3"
  },
  "language_info": {
   "codemirror_mode": {
    "name": "ipython",
    "version": 3
   },
   "file_extension": ".py",
   "mimetype": "text/x-python",
   "name": "python",
   "nbconvert_exporter": "python",
   "pygments_lexer": "ipython3",
   "version": "3.11.3"
  }
 },
 "nbformat": 4,
 "nbformat_minor": 2
}
