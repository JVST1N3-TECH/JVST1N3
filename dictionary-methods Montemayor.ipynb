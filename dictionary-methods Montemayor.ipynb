{
 "cells": [
  {
   "cell_type": "markdown",
   "metadata": {},
   "source": [
    "# <p style=\"text-align:center;\">CP101 Strings and Collections</p>\n",
    "## <p style=\"text-align:center;\">Dictionary Methods</p>\n",
    "---\n",
    "Submitted by: Montemayor, Justine Lloyd E.\n",
    "\n",
    "Student ID:A24-38775\n",
    "\n",
    "Date of Submission: \n",
    "\n",
    "Submitted to: `James Grimaldo `\n",
    "***\n"
   ]
  },
  {
   "cell_type": "markdown",
   "metadata": {},
   "source": [
    "| **Method**      | **Description**                                                                                      |\n",
    "|-----------------|------------------------------------------------------------------------------------------------------|\n",
    "| `clear()`       | Removes all the elements from the dictionary                                                         |\n",
    "| `copy()`        | Returns a copy of the dictionary                                                                     |\n",
    "| `fromkeys()`    | Returns a dictionary with the specified keys and value                                               |\n",
    "| `get()`         | Returns the value of the specified key                                                               |\n",
    "| `items()`       | Returns a list containing a tuple for each key-value pair                                            |\n",
    "| `keys()`        | Returns a list containing the dictionary's keys                                                      |\n",
    "| `pop()`         | Removes the element with the specified key                                                           |\n",
    "| `popitem()`     | Removes the last inserted key-value pair                                                             |\n",
    "| `setdefault()`  | Returns the value of the specified key. If the key does not exist: insert the key with the specified value |\n",
    "| `update()`      | Updates the dictionary with the specified key-value pairs                                            |\n",
    "| `values()`      | Returns a list of all the values in the dictionary                                                   |\n"
   ]
  },
  {
   "cell_type": "code",
   "execution_count": 3,
   "metadata": {},
   "outputs": [
    {
     "name": "stdout",
     "output_type": "stream",
     "text": [
      "After clear(): {}\n"
     ]
    }
   ],
   "source": [
    "my_dict = {'a': 12, 'b': 13, 'c': 15}\n",
    "\n",
    "# clear() - Removes all the elements from the dictionary\n",
    "my_dict.clear()  # Empties the dictionary\n",
    "print(f\"After clear(): {my_dict}\")"
   ]
  },
  {
   "cell_type": "code",
   "execution_count": 19,
   "metadata": {},
   "outputs": [
    {
     "name": "stdout",
     "output_type": "stream",
     "text": [
      "Copy of the dictionary: {'a': 1, 'b': 2, 'c': 3}\n"
     ]
    }
   ],
   "source": [
    "# copy() - Returns a copy of the dictionary\n",
    "my_dict = {'a': 1, 'b': 2, 'c': 3}  # Resetting the dictionary\n",
    "my_dict_copy = my_dict.copy()  # Creates a copy of my_dict\n",
    "print(f\"Copy of the dictionary: {my_dict_copy}\")"
   ]
  },
  {
   "cell_type": "code",
   "execution_count": 9,
   "metadata": {},
   "outputs": [
    {
     "name": "stdout",
     "output_type": "stream",
     "text": [
      "New dictionary from keys: {'x': 1, 'y': 1, 'z': 1}\n"
     ]
    }
   ],
   "source": [
    "# fromkeys() - Returns a dictionary with the specified keys and value\n",
    "new_dict = dict.fromkeys(['x', 'y', 'z'], 1)  # Creates a new dictionary with keys x, y, z, all set to 1\n",
    "print(f\"New dictionary from keys: {new_dict}\")\n"
   ]
  },
  {
   "cell_type": "code",
   "execution_count": 10,
   "metadata": {},
   "outputs": [
    {
     "name": "stdout",
     "output_type": "stream",
     "text": [
      "Value of key 'a': 23\n"
     ]
    }
   ],
   "source": [
    "# 4. get() - Returns the value of the specified key\n",
    "value_of_a = my_dict.get('a')  # Retrieves the value associated with key 'a'\n",
    "print(f\"Value of key 'a': {value_of_a}\")"
   ]
  },
  {
   "cell_type": "code",
   "execution_count": 20,
   "metadata": {},
   "outputs": [
    {
     "name": "stdout",
     "output_type": "stream",
     "text": [
      "Items in the dictionary: [('a', 1), ('b', 2), ('c', 3)]\n"
     ]
    }
   ],
   "source": [
    "# 5. items() - Returns a list containing a tuple for each key-value pair\n",
    "items_list = my_dict.items()  # Gets a view of the dictionary's items\n",
    "print(f\"Items in the dictionary: {list(items_list)}\")\n",
    "\n"
   ]
  },
  {
   "cell_type": "code",
   "execution_count": 21,
   "metadata": {},
   "outputs": [
    {
     "name": "stdout",
     "output_type": "stream",
     "text": [
      "Keys in the dictionary: ['a', 'b', 'c']\n"
     ]
    }
   ],
   "source": [
    "# 6. keys() - Returns a list containing the dictionary's keys\n",
    "keys_list = my_dict.keys()  # Retrieves the keys from the dictionary\n",
    "print(f\"Keys in the dictionary: {list(keys_list)}\")"
   ]
  },
  {
   "cell_type": "code",
   "execution_count": 22,
   "metadata": {},
   "outputs": [
    {
     "name": "stdout",
     "output_type": "stream",
     "text": [
      "Popped value of key 'b': 2\n",
      "After pop('b'): {'a': 1, 'c': 3}\n"
     ]
    }
   ],
   "source": [
    "# 7. pop() - Removes the element with the specified key\n",
    "popped_value = my_dict.pop('b')  # Removes the key 'b' and returns its value\n",
    "print(f\"Popped value of key 'b': {popped_value}\")\n",
    "print(f\"After pop('b'): {my_dict}\")"
   ]
  },
  {
   "cell_type": "code",
   "execution_count": 23,
   "metadata": {},
   "outputs": [
    {
     "name": "stdout",
     "output_type": "stream",
     "text": [
      "Last item popped: ('c', 3)\n",
      "After popitem(): {'a': 1}\n"
     ]
    }
   ],
   "source": [
    "# 8. popitem() - Removes the last inserted key-value pair\n",
    "last_item = my_dict.popitem()  # Removes and returns the last key-value pair\n",
    "print(f\"Last item popped: {last_item}\")\n",
    "print(f\"After popitem(): {my_dict}\")"
   ]
  },
  {
   "cell_type": "code",
   "execution_count": 24,
   "metadata": {},
   "outputs": [
    {
     "name": "stdout",
     "output_type": "stream",
     "text": [
      "Value of key 'd' (after setdefault): 4\n",
      "After setdefault('d', 4): {'a': 1, 'd': 4}\n"
     ]
    }
   ],
   "source": [
    "# 9. setdefault() - Returns the value of the specified key. If the key does not exist: insert the key with the specified value\n",
    "default_value = my_dict.setdefault('d', 4)  # Sets key 'd' to 4 if it doesn't exist\n",
    "print(f\"Value of key 'd' (after setdefault): {default_value}\")\n",
    "print(f\"After setdefault('d', 4): {my_dict}\")"
   ]
  },
  {
   "cell_type": "code",
   "execution_count": 31,
   "metadata": {},
   "outputs": [
    {
     "name": "stdout",
     "output_type": "stream",
     "text": [
      "After update with {'a': 1, 'b': 2, 'c': 3, 'e': 5, 'f': 6}\n"
     ]
    }
   ],
   "source": [
    "# 10. update() - Updates the dictionary with the specified key-value pairs\n",
    "my_dict = {'a': 1, 'b': 2, 'c': 3}\n",
    "\n",
    "my_dict.update({'e': 5, 'f': 6})  # Adds keys 'e' and 'f' with values 5 and 6\n",
    "print(f\"After update with {my_dict}\")"
   ]
  },
  {
   "cell_type": "code",
   "execution_count": 29,
   "metadata": {},
   "outputs": [
    {
     "name": "stdout",
     "output_type": "stream",
     "text": [
      "Values in the dictionary: [1, 2, 3, 5, 6]\n"
     ]
    }
   ],
   "source": [
    "# 11. values() - Returns a list of all the values in the dictionary\n",
    "values_list = my_dict.values()  # Retrieves the values from the dictionary\n",
    "print(f\"Values in the dictionary: {list(values_list)}\")"
   ]
  }
 ],
 "metadata": {
  "kernelspec": {
   "display_name": "Python 3",
   "language": "python",
   "name": "python3"
  },
  "language_info": {
   "codemirror_mode": {
    "name": "ipython",
    "version": 3
   },
   "file_extension": ".py",
   "mimetype": "text/x-python",
   "name": "python",
   "nbconvert_exporter": "python",
   "pygments_lexer": "ipython3",
   "version": "3.11.3"
  }
 },
 "nbformat": 4,
 "nbformat_minor": 2
}
